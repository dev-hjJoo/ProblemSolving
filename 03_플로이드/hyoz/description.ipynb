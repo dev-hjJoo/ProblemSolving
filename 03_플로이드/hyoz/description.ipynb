{
 "cells": [
  {
   "cell_type": "markdown",
   "id": "0ae05e7d-7600-45e2-96b4-6e6a2488e7ca",
   "metadata": {},
   "source": [
    "# Description"
   ]
  },
  {
   "cell_type": "markdown",
   "id": "d0f11e36-0c47-4030-845b-547506afe618",
   "metadata": {},
   "source": [
    "### 문제 개요\n",
    "* 문제: [플로이드](https://www.acmicpc.net/problem/11404)\n",
    "* 문제 요약\n",
    "    * 노드(도시)와 간선 정보(비용)가 주어질 때, 모든 노드에 대해 최단 경로(최소 비용)를 구하는 문제이다. \n",
    "    * 입력\n",
    "        * 도시의 개수 N (2 이상 100 이하의 자연수)\n",
    "        * 버스의 개수 M (1 이상 10만 이하의 자연수)\n",
    "        * 버스 노선 정보: 출발 도시, 도착 도시, 비용(10만 이하의 자연수)\n",
    "    * 출력: 전체 도시별 각 경로에 대한 최소 비용이 담긴 2차원 배열 (크기: N*N)\n",
    "* 문제 유형: 최단 경로 탐색 (플로이드 워셜 알고리즘 적용)"
   ]
  },
  {
   "cell_type": "markdown",
   "id": "302005a0-6485-40b2-9ea5-4aa778ac1980",
   "metadata": {},
   "source": [
    "# History of Code"
   ]
  },
  {
   "cell_type": "code",
   "execution_count": 1,
   "id": "37900d06-1db7-467c-b50b-ebbfe2d5a0a8",
   "metadata": {},
   "outputs": [
    {
     "name": "stdin",
     "output_type": "stream",
     "text": [
      " 5\n",
      " 14\n",
      " 1 2 2\n",
      " 1 3 3\n",
      " 1 4 1\n",
      " 1 5 10\n",
      " 2 4 2\n",
      " 3 4 1\n",
      " 3 5 1\n",
      " 4 5 3\n",
      " 3 5 10\n",
      " 3 1 8\n",
      " 1 4 2\n",
      " 5 1 7\n",
      " 3 4 2\n",
      " 5 2 4\n"
     ]
    },
    {
     "name": "stdout",
     "output_type": "stream",
     "text": [
      "0 2 3 1 4 \n",
      "12 0 15 2 5 \n",
      "8 5 0 1 1 \n",
      "10 7 13 0 3 \n",
      "7 4 10 6 0 \n"
     ]
    }
   ],
   "source": [
    "'''\n",
    "시간 복잡도: O(n^3)\n",
    "\n",
    "구현 순서\n",
    "1. 특정 도시 N에 대하여, 기존 경로보다 도시 n을 거쳐가는 경로가 더 짧을 경우 배열을 업데이트 한다. → O(n^3)\n",
    "1-1. 모든 도시를 탐색하기 위해 도시 개수만큼 반복문을 돈다. → O(n)\n",
    "1-2. 다른 도시에서 출발하여 도시 N으로 도착하는 경로를 모두 탐색하기 위해 도시 개수만큼 반복문 돈다. → O(n)\n",
    "1-3. 도시 N에서 출발하여 다른 도시로 도착하는 경로를 모두 탐색하기 위해 도시 개수만큼 반복문 돈다. → O(n)\n",
    "2. 위 과정을 통해 계산된 비용을 출력한다. 만약 초기화값이 그대로 있다면 갈 수 없음을 의미하므로 0을 출력한다.\n",
    "'''\n",
    "\n",
    "cnt_city = int(input())\n",
    "cnt_bus = int(input())\n",
    "\n",
    "INIT_VALUE = int(1e9)\n",
    "\n",
    "# 비용 ≤ 10만이므로 초기값 10만+1\n",
    "# 시작 도시와 도착 도시 같은 경우 없으므로 대각선 0\n",
    "costs = [[INIT_VALUE if i!=j else 0 for j in range(cnt_city)] for i in range(cnt_city)]\n",
    "\n",
    "for _ in range(cnt_bus):\n",
    "    st, en, cost = map(int, input().split())\n",
    "    i, j = st-1, en-1\n",
    "    costs[i][j] = min(costs[i][j], cost)\n",
    "\n",
    "for n in range(cnt_city):\n",
    "    for i in range(cnt_city):\n",
    "        if i == n: continue # 현재 도시 N에 대해서는 확인 X (거쳐가는 경로만 확인)\n",
    "        for j in range(cnt_city):\n",
    "            if j == n or i==j: continue # 현재 도시 N에 대해서는 확인 X (거쳐가는 경로만 확인)\n",
    "            costs[i][j] = min(costs[i][j], costs[i][n]+costs[n][j])\n",
    "\n",
    "# 출력\n",
    "for i in range(cnt_city):\n",
    "    for j in range(cnt_city):\n",
    "        cost = costs[i][j] if costs[i][j] != INIT_VALUE else 0\n",
    "        print(cost, end=' ')\n",
    "    print()"
   ]
  }
 ],
 "metadata": {
  "kernelspec": {
   "display_name": "Python 3 (ipykernel)",
   "language": "python",
   "name": "python3"
  },
  "language_info": {
   "codemirror_mode": {
    "name": "ipython",
    "version": 3
   },
   "file_extension": ".py",
   "mimetype": "text/x-python",
   "name": "python",
   "nbconvert_exporter": "python",
   "pygments_lexer": "ipython3",
   "version": "3.9.13"
  }
 },
 "nbformat": 4,
 "nbformat_minor": 5
}
